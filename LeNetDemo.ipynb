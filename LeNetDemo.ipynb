{
 "cells": [
  {
   "cell_type": "code",
   "execution_count": 1,
   "metadata": {},
   "outputs": [
    {
     "name": "stderr",
     "output_type": "stream",
     "text": [
      "Using TensorFlow backend.\n"
     ]
    }
   ],
   "source": [
    "#Implemetation in Modified LENET\n",
    "\n",
    "import keras\n",
    "from keras.layers import Conv2D, MaxPooling2D\n",
    "from keras.layers import Dense, Flatten\n",
    "from keras.models import Sequential"
   ]
  },
  {
   "cell_type": "code",
   "execution_count": 2,
   "metadata": {},
   "outputs": [
    {
     "name": "stdout",
     "output_type": "stream",
     "text": [
      "WARNING:tensorflow:From C:\\Users\\praanj\\Anaconda3\\lib\\site-packages\\keras\\backend\\tensorflow_backend.py:4070: The name tf.nn.max_pool is deprecated. Please use tf.nn.max_pool2d instead.\n",
      "\n"
     ]
    }
   ],
   "source": [
    "model = Sequential()\n",
    "\n",
    "# Select 6 feature convolution kernels with a size of 3 * 3 (without offset), and get 6 feature maps. The size of each feature map is 32−3 + 1 = 30.\n",
    "# That is, the number of neurons has been reduced from 1024 to 30 ∗ 30 = 900 .\n",
    "# Parameters between input layer and C1 layer: 6 ∗ (3 ∗ 3 + 1)\n",
    "model.add(Conv2D(6, kernel_size=(3, 3), activation='relu', input_shape=(32, 32, 3)))\n",
    "\n",
    "# The input of this layer is the output of the first layer, which is a 30 * 30 * 6 node matrix.\n",
    "# The size of the filter used in this layer is 2 * 2, and the step length and width are both 2, so the output matrix size of this layer is 14 * 14 * 6.\n",
    "model.add(MaxPooling2D(pool_size=(2, 2)))\n",
    "\n",
    "# The input matrix size of this layer is 15 * 15 * 6, the filter size used is 3 * 3, and the depth is 16. This layer does not use all 0 padding, and the step size is 1.\n",
    "# The output matrix size of this layer is 13 * 13 * 16. This layer has 3 * 3 * 6 * 16 + 16 = 880 parameters\n",
    "model.add(Conv2D(16, kernel_size=(3, 3), activation='relu'))\n",
    "\n",
    "# The input matrix size of this layer is 13 * 13- * 16. The size of the filter used in this layer is 2 * 2, and the length and width steps are both 2, so the output matrix size of this layer is 5 * 5 * 16.\n",
    "model.add(MaxPooling2D(pool_size=(2, 2)))\n",
    "\n",
    "# The input matrix size of this layer is 6 * 6 * 16. This layer is called a convolution layer in the LeNet-5 paper, but because the size of the filter is 3 * 3, #\n",
    "# So it is not different from the fully connected layer. If the nodes in the 3 * 3 * 16 matrix are pulled into a vector, then this layer is the same as the fully connected layer.\n",
    "# The number of output nodes in this layer is 120, with a total of 3 * 3 * 16 * 120 + 120 = 17400 parameters.\n",
    "model.add(Flatten())\n",
    "model.add(Dense(120, activation='relu'))\n",
    "\n",
    "# The number of input nodes in this layer is 120 and the number of output nodes is 84. The total parameter is 120 * 84 + 84 = 10164 (w + b)\n",
    "model.add(Dense(84, activation='relu'))\n",
    "\n",
    "# The number of input nodes in this layer is 84 and the number of output nodes is 10. The total parameter is 84 * 10 + 10 = 850\n",
    "model.add(Dense(3, activation='softmax'))\n",
    "model.compile(loss=keras.metrics.categorical_crossentropy, optimizer=keras.optimizers.Adam(), metrics=['accuracy'])\n",
    "\n",
    "#model.fit(x_train, y_train, batch_size=128, epochs=20, verbose=1, validation_data=(x_test, y_test))\n",
    "#score = model.evaluate(x_test, y_test)\n",
    "#print('Test Loss:', score[0])\n",
    "#print('Test accuracy:', score[1])"
   ]
  },
  {
   "cell_type": "code",
   "execution_count": 3,
   "metadata": {},
   "outputs": [
    {
     "name": "stdout",
     "output_type": "stream",
     "text": [
      "Found 30 images belonging to 3 classes.\n",
      "Found 30 images belonging to 3 classes.\n",
      "WARNING:tensorflow:From C:\\Users\\praanj\\Anaconda3\\lib\\site-packages\\keras\\backend\\tensorflow_backend.py:422: The name tf.global_variables is deprecated. Please use tf.compat.v1.global_variables instead.\n",
      "\n",
      "Epoch 1/20\n",
      "2/2 [==============================] - 14s 7s/step - loss: 1.0744 - accuracy: 0.3333 - val_loss: 1.0292 - val_accuracy: 0.5000\n",
      "Epoch 2/20\n",
      "2/2 [==============================] - 10s 5s/step - loss: 1.0184 - accuracy: 0.4667 - val_loss: 0.9631 - val_accuracy: 0.7000\n",
      "Epoch 3/20\n",
      "2/2 [==============================] - 10s 5s/step - loss: 0.9668 - accuracy: 0.5333 - val_loss: 0.8349 - val_accuracy: 0.7000\n",
      "Epoch 4/20\n",
      "2/2 [==============================] - 10s 5s/step - loss: 0.8839 - accuracy: 0.7000 - val_loss: 0.7800 - val_accuracy: 0.6667\n",
      "Epoch 5/20\n",
      "2/2 [==============================] - 10s 5s/step - loss: 0.8494 - accuracy: 0.6333 - val_loss: 0.8088 - val_accuracy: 0.7000\n",
      "Epoch 6/20\n",
      "2/2 [==============================] - 10s 5s/step - loss: 0.7712 - accuracy: 0.7333 - val_loss: 0.7982 - val_accuracy: 0.7667\n",
      "Epoch 7/20\n",
      "2/2 [==============================] - 10s 5s/step - loss: 0.7390 - accuracy: 0.8333 - val_loss: 0.6659 - val_accuracy: 0.7333\n",
      "Epoch 8/20\n",
      "2/2 [==============================] - 10s 5s/step - loss: 0.7352 - accuracy: 0.6000 - val_loss: 0.4736 - val_accuracy: 0.7667\n",
      "Epoch 9/20\n",
      "2/2 [==============================] - 10s 5s/step - loss: 0.7704 - accuracy: 0.7000 - val_loss: 0.4926 - val_accuracy: 0.8000\n",
      "Epoch 10/20\n",
      "2/2 [==============================] - 10s 5s/step - loss: 0.6186 - accuracy: 0.7333 - val_loss: 0.5841 - val_accuracy: 0.7333\n",
      "Epoch 11/20\n",
      "2/2 [==============================] - 10s 5s/step - loss: 0.6109 - accuracy: 0.8333 - val_loss: 0.3528 - val_accuracy: 0.8000\n",
      "Epoch 12/20\n",
      "2/2 [==============================] - 10s 5s/step - loss: 0.5989 - accuracy: 0.7333 - val_loss: 0.5209 - val_accuracy: 0.8000\n",
      "Epoch 13/20\n",
      "2/2 [==============================] - 10s 5s/step - loss: 0.5222 - accuracy: 0.8667 - val_loss: 0.4637 - val_accuracy: 0.7333\n",
      "Epoch 14/20\n",
      "2/2 [==============================] - 10s 5s/step - loss: 0.5649 - accuracy: 0.7333 - val_loss: 0.5286 - val_accuracy: 0.8333\n",
      "Epoch 15/20\n",
      "2/2 [==============================] - 10s 5s/step - loss: 0.4887 - accuracy: 0.8000 - val_loss: 0.3938 - val_accuracy: 0.8333\n",
      "Epoch 16/20\n",
      "2/2 [==============================] - 10s 5s/step - loss: 0.5011 - accuracy: 0.8333 - val_loss: 0.5521 - val_accuracy: 0.8000\n",
      "Epoch 17/20\n",
      "2/2 [==============================] - 10s 5s/step - loss: 0.4237 - accuracy: 0.8667 - val_loss: 0.5189 - val_accuracy: 0.8667\n",
      "Epoch 18/20\n",
      "2/2 [==============================] - 10s 5s/step - loss: 0.5138 - accuracy: 0.7667 - val_loss: 0.6026 - val_accuracy: 0.8333\n",
      "Epoch 19/20\n",
      "2/2 [==============================] - 10s 5s/step - loss: 0.4804 - accuracy: 0.8000 - val_loss: 0.3966 - val_accuracy: 0.8333\n",
      "Epoch 20/20\n",
      "2/2 [==============================] - 10s 5s/step - loss: 0.4011 - accuracy: 0.9000 - val_loss: 0.2660 - val_accuracy: 0.8667\n"
     ]
    },
    {
     "data": {
      "text/plain": [
       "<keras.callbacks.callbacks.History at 0x7598860>"
      ]
     },
     "execution_count": 3,
     "metadata": {},
     "output_type": "execute_result"
    }
   ],
   "source": [
    "# Part 2 - Fitting the CNN to the images\n",
    "\n",
    "from keras.preprocessing.image import ImageDataGenerator\n",
    "\n",
    "train_datagen = ImageDataGenerator(rescale = 1./255,\n",
    "                                   shear_range = 0.2,\n",
    "                                   zoom_range = 0.2,\n",
    "                                   horizontal_flip = True)\n",
    "\n",
    "test_datagen = ImageDataGenerator(rescale = 1./255)\n",
    "\n",
    "training_set = train_datagen.flow_from_directory('E:/DL/ImageData/training',\n",
    "                                                 target_size = (32, 32),\n",
    "                                                 batch_size = 16,\n",
    "                                                 class_mode = 'categorical')\n",
    "\n",
    "test_set = test_datagen.flow_from_directory('E:/DL/ImageData/training',\n",
    "                                            target_size = (32, 32),\n",
    "                                            batch_size = 16,\n",
    "                                            class_mode = 'categorical')\n",
    "\n",
    "model.fit_generator(training_set,\n",
    "                         steps_per_epoch = len(training_set),\n",
    "                         epochs = 20,\n",
    "                         validation_data = test_set,    \n",
    "                         validation_steps = len(test_set))"
   ]
  },
  {
   "cell_type": "code",
   "execution_count": 4,
   "metadata": {},
   "outputs": [
    {
     "name": "stdout",
     "output_type": "stream",
     "text": [
      "[[0. 0. 1.]]\n",
      "Prahalad\n"
     ]
    }
   ],
   "source": [
    "# Part 3 - Making new predictions\n",
    "import numpy as np\n",
    "from keras.preprocessing import image\n",
    "test_image = image.load_img('E:/DL/ImageData/image3.jpg', target_size = (32, 32))\n",
    "test_image = image.img_to_array(test_image)\n",
    "test_image = np.expand_dims(test_image, axis = 0)\n",
    "result = model.predict(test_image)\n",
    "training_set.class_indices\n",
    "print(result)\n",
    "if result[0][0] == 1:\n",
    "    prediction = 'Manan'\n",
    "    print(prediction)\n",
    "elif result[0][1] == 1:\n",
    "    prediction = 'Manav'\n",
    "    print(prediction)\n",
    "    \n",
    "else:\n",
    "    prediction = 'Prahalad'\n",
    "    print(prediction)"
   ]
  },
  {
   "cell_type": "code",
   "execution_count": null,
   "metadata": {},
   "outputs": [],
   "source": []
  }
 ],
 "metadata": {
  "kernelspec": {
   "display_name": "Python 3",
   "language": "python",
   "name": "python3"
  },
  "language_info": {
   "codemirror_mode": {
    "name": "ipython",
    "version": 3
   },
   "file_extension": ".py",
   "mimetype": "text/x-python",
   "name": "python",
   "nbconvert_exporter": "python",
   "pygments_lexer": "ipython3",
   "version": "3.7.3"
  }
 },
 "nbformat": 4,
 "nbformat_minor": 2
}
